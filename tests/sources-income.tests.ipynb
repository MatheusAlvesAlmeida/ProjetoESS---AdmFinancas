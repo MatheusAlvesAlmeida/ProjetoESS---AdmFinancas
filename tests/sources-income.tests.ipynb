{
 "cells": [
  {
   "cell_type": "code",
   "execution_count": null,
   "metadata": {},
   "outputs": [],
   "source": [
    "from selenium import webdriver\n",
    "from selenium.webdriver.common.keys import Keys\n",
    "from webdriver_manager.firefox import GeckoDriverManager\n",
    "\n",
    "driver = webdriver.Firefox(executable_path=GeckoDriverManager().install())\n",
    "driver.get(\"http://localhost:4200/sources-income\")\n",
    "assert \"Fontes de renda\" in driver.title"
   ]
  },
  {
   "cell_type": "code",
   "execution_count": null,
   "metadata": {},
   "outputs": [],
   "source": [
    "# Adicionar salário com sucesso\n",
    "type = driver.find_element_by_name(\"salaryInput\")\n",
    "type.clear()\n",
    "type.send_keys(2000)\n",
    "\n",
    "button = driver.find_element_by_name(\"addSalaryButton\")\n",
    "button.click()\n",
    "\n",
    "confirmButton = driver.find_element_by_name('confirmButton')\n",
    "confirmButton.click()\n",
    "\n",
    "alert = driver.switch_to.alert\n",
    "alert_text = alert.text\n",
    "if(alert_text == 'Fontes de renda confirmadas com sucesso!'):\n",
    "    print(\"Passou!\")\n",
    "    alert.accept()\n",
    "else:\n",
    "    print(\"Não passou!\")\n",
    "    alert.accept()"
   ]
  },
  {
   "cell_type": "code",
   "execution_count": null,
   "metadata": {},
   "outputs": [],
   "source": [
    "# Adicionar fonte de renda com sucesso\n",
    "type = driver.find_element_by_name(\"sourceIncomeInput\")\n",
    "type.clear()\n",
    "type.send_keys(\"Freelance\")\n",
    "percentage = driver.find_element_by_name(\"sourceIncomeAmountInput\")\n",
    "percentage.clear()\n",
    "percentage.send_keys(1000)\n",
    "\n",
    "button = driver.find_element_by_name(\"addSourceIncomeButton\")\n",
    "button.click()\n",
    "\n",
    "type = driver.find_element_by_name(\"sourceIncomeInput\")\n",
    "type.clear()\n",
    "type.send_keys(\"Mecânico\")\n",
    "percentage = driver.find_element_by_name(\"sourceIncomeAmountInput\")\n",
    "percentage.clear()\n",
    "percentage.send_keys(800)\n",
    "\n",
    "button = driver.find_element_by_name(\"addSourceIncomeButton\")\n",
    "button.click()\n",
    "\n",
    "confirmButton = driver.find_element_by_name('confirmButton')\n",
    "confirmButton.click()\n",
    "\n",
    "alert = driver.switch_to.alert\n",
    "alert_text = alert.text\n",
    "if(alert_text == 'Fontes de renda confirmadas com sucesso!'):\n",
    "    print(\"Passou!\")\n",
    "    alert.accept()\n",
    "else:\n",
    "    print(\"Não passou!\")\n",
    "    alert.accept()"
   ]
  },
  {
   "cell_type": "code",
   "execution_count": null,
   "metadata": {},
   "outputs": [],
   "source": [
    "#Deletando fontes de renda corretamente\n",
    "deleteButton = driver.find_element_by_name(\"deleteButton\")\n",
    "deleteButton.click()\n",
    "\n",
    "alert = driver.switch_to.alert\n",
    "alert_text = alert.text\n",
    "if(alert_text == 'Fonte de renda deletada com sucesso!'):\n",
    "    print(\"Passou!\")\n",
    "    alert.accept()\n",
    "else:\n",
    "    print(\"Não passou!\")\n",
    "    alert.accept()"
   ]
  },
  {
   "cell_type": "code",
   "execution_count": null,
   "metadata": {},
   "outputs": [],
   "source": [
    "#assert \"No results found.\" not in driver.page_source\n",
    "#driver.close()"
   ]
  }
 ],
 "metadata": {
  "interpreter": {
   "hash": "916dbcbb3f70747c44a77c7bcd40155683ae19c65e1c03b4aa3499c5328201f1"
  },
  "kernelspec": {
   "display_name": "Python 3.9.2 64-bit",
   "language": "python",
   "name": "python3"
  },
  "language_info": {
   "codemirror_mode": {
    "name": "ipython",
    "version": 3
   },
   "file_extension": ".py",
   "mimetype": "text/x-python",
   "name": "python",
   "nbconvert_exporter": "python",
   "pygments_lexer": "ipython3",
   "version": "3.8.10"
  },
  "orig_nbformat": 4
 },
 "nbformat": 4,
 "nbformat_minor": 2
}
