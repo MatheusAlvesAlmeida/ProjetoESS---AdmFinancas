{
 "cells": [
  {
   "cell_type": "code",
   "execution_count": 7,
   "metadata": {},
   "outputs": [
    {
     "name": "stderr",
     "output_type": "stream",
     "text": [
      "\n",
      "\n",
      "====== WebDriver manager ======\n",
      "Current firefox version is 91.4\n",
      "Get LATEST geckodriver version for 91.4 firefox\n",
      "Driver [/home/matheus/.wdm/drivers/geckodriver/linux64/v0.30.0/geckodriver] found in cache\n",
      "/tmp/ipykernel_21251/1261774088.py:6: DeprecationWarning: executable_path has been deprecated, please pass in a Service object\n",
      "  driver = webdriver.Firefox(executable_path=GeckoDriverManager().install())\n",
      "/tmp/ipykernel_21251/1261774088.py:9: DeprecationWarning: find_element_by_* commands are deprecated. Please use find_element() instead\n",
      "  email = driver.find_element_by_name(\"emailInput\")\n",
      "/tmp/ipykernel_21251/1261774088.py:13: DeprecationWarning: find_element_by_* commands are deprecated. Please use find_element() instead\n",
      "  password = driver.find_element_by_name(\"passwordInput\")\n",
      "/tmp/ipykernel_21251/1261774088.py:17: DeprecationWarning: find_element_by_* commands are deprecated. Please use find_element() instead\n",
      "  submit = driver.find_element_by_name(\"submitLogin\")\n"
     ]
    }
   ],
   "source": [
    "from selenium import webdriver\n",
    "from selenium.webdriver.common.keys import Keys\n",
    "from webdriver_manager.firefox import GeckoDriverManager\n",
    "import time\n",
    "\n",
    "driver = webdriver.Firefox(executable_path=GeckoDriverManager().install())\n",
    "driver.get(\"http://localhost:4200/\")\n",
    "\n",
    "email = driver.find_element_by_name(\"emailInput\")\n",
    "email.clear()\n",
    "email.send_keys('teste@email.com')\n",
    "\n",
    "password = driver.find_element_by_name(\"passwordInput\")\n",
    "password.clear()\n",
    "password.send_keys('123456')\n",
    "\n",
    "submit = driver.find_element_by_name(\"submitLogin\")\n",
    "submit.click()\n",
    "assert \"No results found.\" not in driver.page_source\n"
   ]
  },
  {
   "cell_type": "code",
   "execution_count": 8,
   "metadata": {},
   "outputs": [],
   "source": [
    "driver.get(\"http://localhost:4200/sources-income\")"
   ]
  },
  {
   "cell_type": "code",
   "execution_count": 9,
   "metadata": {},
   "outputs": [
    {
     "name": "stderr",
     "output_type": "stream",
     "text": [
      "/tmp/ipykernel_21251/1195346459.py:2: DeprecationWarning: find_element_by_* commands are deprecated. Please use find_element() instead\n",
      "  type = driver.find_element_by_name(\"salaryInput\")\n",
      "/tmp/ipykernel_21251/1195346459.py:6: DeprecationWarning: find_element_by_* commands are deprecated. Please use find_element() instead\n",
      "  button = driver.find_element_by_name(\"addSalaryButton\")\n",
      "/tmp/ipykernel_21251/1195346459.py:9: DeprecationWarning: find_element_by_* commands are deprecated. Please use find_element() instead\n",
      "  confirmButton = driver.find_element_by_name('confirmButton')\n"
     ]
    },
    {
     "name": "stdout",
     "output_type": "stream",
     "text": [
      "Passou!\n"
     ]
    }
   ],
   "source": [
    "# Adicionar salário com sucesso\n",
    "type = driver.find_element_by_name(\"salaryInput\")\n",
    "type.clear()\n",
    "type.send_keys(2000)\n",
    "\n",
    "button = driver.find_element_by_name(\"addSalaryButton\")\n",
    "button.click()\n",
    "\n",
    "confirmButton = driver.find_element_by_name('confirmButton')\n",
    "confirmButton.click()\n",
    "\n",
    "alert = driver.switch_to.alert\n",
    "alert_text = alert.text\n",
    "if(alert_text == 'Fontes de renda confirmadas com sucesso!'):\n",
    "    print(\"Passou!\")\n",
    "    alert.accept()\n",
    "else:\n",
    "    print(\"Não passou!\")\n",
    "    alert.accept()"
   ]
  },
  {
   "cell_type": "code",
   "execution_count": null,
   "metadata": {},
   "outputs": [],
   "source": [
    "# Adicionar fonte de renda com sucesso\n",
    "type = driver.find_element_by_name(\"sourceIncomeInput\")\n",
    "type.clear()\n",
    "type.send_keys(\"Freelance\")\n",
    "percentage = driver.find_element_by_name(\"sourceIncomeAmountInput\")\n",
    "percentage.clear()\n",
    "percentage.send_keys(1000)\n",
    "\n",
    "button = driver.find_element_by_name(\"addSourceIncomeButton\")\n",
    "button.click()\n",
    "\n",
    "type = driver.find_element_by_name(\"sourceIncomeInput\")\n",
    "type.clear()\n",
    "type.send_keys(\"Mecânico\")\n",
    "percentage = driver.find_element_by_name(\"sourceIncomeAmountInput\")\n",
    "percentage.clear()\n",
    "percentage.send_keys(800)\n",
    "\n",
    "button = driver.find_element_by_name(\"addSourceIncomeButton\")\n",
    "button.click()\n",
    "\n",
    "confirmButton = driver.find_element_by_name('confirmButton')\n",
    "confirmButton.click()\n",
    "\n",
    "alert = driver.switch_to.alert\n",
    "alert_text = alert.text\n",
    "if(alert_text == 'Fontes de renda confirmadas com sucesso!'):\n",
    "    print(\"Passou!\")\n",
    "    alert.accept()\n",
    "else:\n",
    "    print(\"Não passou!\")\n",
    "    alert.accept()"
   ]
  },
  {
   "cell_type": "code",
   "execution_count": null,
   "metadata": {},
   "outputs": [],
   "source": [
    "#Deletando fontes de renda corretamente\n",
    "deleteButton = driver.find_element_by_name(\"deleteButton\")\n",
    "deleteButton.click()\n",
    "\n",
    "alert = driver.switch_to.alert\n",
    "alert_text = alert.text\n",
    "if(alert_text == 'Fonte de renda deletada com sucesso!'):\n",
    "    print(\"Passou!\")\n",
    "    alert.accept()\n",
    "else:\n",
    "    print(\"Não passou!\")\n",
    "    alert.accept()"
   ]
  },
  {
   "cell_type": "code",
   "execution_count": null,
   "metadata": {},
   "outputs": [],
   "source": [
    "#assert \"No results found.\" not in driver.page_source\n",
    "#driver.close()"
   ]
  }
 ],
 "metadata": {
  "interpreter": {
   "hash": "916dbcbb3f70747c44a77c7bcd40155683ae19c65e1c03b4aa3499c5328201f1"
  },
  "kernelspec": {
   "display_name": "Python 3.9.2 64-bit",
   "language": "python",
   "name": "python3"
  },
  "language_info": {
   "codemirror_mode": {
    "name": "ipython",
    "version": 3
   },
   "file_extension": ".py",
   "mimetype": "text/x-python",
   "name": "python",
   "nbconvert_exporter": "python",
   "pygments_lexer": "ipython3",
   "version": "3.9.2"
  },
  "orig_nbformat": 4
 },
 "nbformat": 4,
 "nbformat_minor": 2
}
