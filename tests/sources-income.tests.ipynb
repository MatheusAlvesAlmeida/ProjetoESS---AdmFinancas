{
 "cells": [
  {
   "cell_type": "code",
   "execution_count": null,
   "metadata": {},
   "outputs": [],
   "source": [
    "from selenium import webdriver\n",
    "from selenium.webdriver.common.keys import Keys\n",
    "from webdriver_manager.firefox import GeckoDriverManager\n",
    "\n",
    "driver = webdriver.Firefox(executable_path=GeckoDriverManager().install())\n",
    "driver.get(\"http://localhost:4200/sources-income\")\n",
    "assert \"Fontes de renda\" in driver.title"
   ]
  },
  {
   "cell_type": "code",
   "execution_count": null,
   "metadata": {},
   "outputs": [],
   "source": [
    "# Adicionar salário com sucesso\n",
    "type = driver.find_element_by_name(\"salaryInput\")\n",
    "type.clear()\n",
    "type.send_keys(2000)\n",
    "\n",
    "button = driver.find_element_by_name(\"addSalaryButton\")\n",
    "button.click()"
   ]
  },
  {
   "cell_type": "code",
   "execution_count": null,
   "metadata": {},
   "outputs": [],
   "source": [
    "# Adicionar fonte de renda com sucesso\n",
    "type = driver.find_element_by_name(\"sourceIncomeInput\")\n",
    "type.clear()\n",
    "type.send_keys(\"Freelance\")\n",
    "percentage = driver.find_element_by_name(\"sourceIncomeAmountInput\")\n",
    "percentage.clear()\n",
    "percentage.send_keys(1000)\n",
    "\n",
    "button = driver.find_element_by_name(\"addSourceIncomeButton\")\n",
    "button.click()"
   ]
  },
  {
   "cell_type": "code",
   "execution_count": null,
   "metadata": {},
   "outputs": [],
   "source": [
    "assert \"No results found.\" not in driver.page_source\n",
    "driver.close()"
   ]
  },
  {
   "cell_type": "code",
   "execution_count": null,
   "metadata": {},
   "outputs": [],
   "source": []
  }
 ],
 "metadata": {
  "language_info": {
   "name": "python"
  },
  "orig_nbformat": 4
 },
 "nbformat": 4,
 "nbformat_minor": 2
}
