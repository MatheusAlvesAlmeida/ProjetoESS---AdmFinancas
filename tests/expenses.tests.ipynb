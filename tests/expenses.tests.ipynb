{
 "cells": [
  {
   "cell_type": "code",
   "execution_count": null,
   "metadata": {},
   "outputs": [],
   "source": [
    "from selenium import webdriver\n",
    "from selenium.webdriver.common.keys import Keys\n",
    "from webdriver_manager.firefox import GeckoDriverManager\n",
    "\n",
    "driver = webdriver.Firefox(executable_path=GeckoDriverManager().install())\n",
    "driver.get(\"http://localhost:4200/expenses\")\n",
    "assert \"Gastos fixos\" in driver.title"
   ]
  },
  {
   "cell_type": "code",
   "execution_count": null,
   "metadata": {},
   "outputs": [],
   "source": [
    "# Adicionar gastos com sucesso\n",
    "type = driver.find_element_by_name(\"typebox\")\n",
    "type.clear()\n",
    "type.send_keys(\"Alimentação\")\n",
    "percentage = driver.find_element_by_name(\"percentagebox\")\n",
    "percentage.clear()\n",
    "percentage.send_keys(\"20\")\n",
    "\n",
    "button = driver.find_element_by_name(\"addButton\")\n",
    "button.click()"
   ]
  },
  {
   "cell_type": "code",
   "execution_count": null,
   "metadata": {},
   "outputs": [],
   "source": [
    "assert \"No results found.\" not in driver.page_source\n",
    "driver.close()"
   ]
  },
  {
   "cell_type": "code",
   "execution_count": null,
   "metadata": {},
   "outputs": [],
   "source": []
  }
 ],
 "metadata": {
  "language_info": {
   "name": "python"
  },
  "orig_nbformat": 4
 },
 "nbformat": 4,
 "nbformat_minor": 2
}
