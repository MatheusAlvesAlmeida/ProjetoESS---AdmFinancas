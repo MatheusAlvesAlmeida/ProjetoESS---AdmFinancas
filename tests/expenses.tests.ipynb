{
 "cells": [
  {
   "cell_type": "code",
   "execution_count": 1,
   "metadata": {},
   "outputs": [
    {
     "name": "stderr",
     "output_type": "stream",
     "text": [
      "\n",
      "\n",
      "====== WebDriver manager ======\n",
      "Current firefox version is 91.4\n",
      "Get LATEST geckodriver version for 91.4 firefox\n",
      "Getting latest mozilla release info for v0.30.0\n",
      "Trying to download new driver from https://github.com/mozilla/geckodriver/releases/download/v0.30.0/geckodriver-v0.30.0-linux64.tar.gz\n",
      "Driver has been saved in cache [/home/matheus/.wdm/drivers/geckodriver/linux64/v0.30.0]\n",
      "/tmp/ipykernel_9273/4112985822.py:5: DeprecationWarning: executable_path has been deprecated, please pass in a Service object\n",
      "  driver = webdriver.Firefox(executable_path=GeckoDriverManager().install())\n"
     ]
    }
   ],
   "source": [
    "from selenium import webdriver\n",
    "from selenium.webdriver.common.keys import Keys\n",
    "from webdriver_manager.firefox import GeckoDriverManager\n",
    "\n",
    "driver = webdriver.Firefox(executable_path=GeckoDriverManager().install())\n",
    "driver.get(\"http://localhost:4200/expenses\")\n",
    "assert \"Gastos fixos\" in driver.title"
   ]
  },
  {
   "cell_type": "code",
   "execution_count": 2,
   "metadata": {},
   "outputs": [
    {
     "name": "stderr",
     "output_type": "stream",
     "text": [
      "/tmp/ipykernel_9273/3793070789.py:2: DeprecationWarning: find_element_by_* commands are deprecated. Please use find_element() instead\n",
      "  type = driver.find_element_by_name(\"typebox\")\n",
      "/tmp/ipykernel_9273/3793070789.py:5: DeprecationWarning: find_element_by_* commands are deprecated. Please use find_element() instead\n",
      "  percentage = driver.find_element_by_name(\"percentagebox\")\n",
      "/tmp/ipykernel_9273/3793070789.py:9: DeprecationWarning: find_element_by_* commands are deprecated. Please use find_element() instead\n",
      "  button = driver.find_element_by_name(\"addButton\")\n",
      "/tmp/ipykernel_9273/3793070789.py:12: DeprecationWarning: find_element_by_* commands are deprecated. Please use find_element() instead\n",
      "  type = driver.find_element_by_name(\"typebox\")\n",
      "/tmp/ipykernel_9273/3793070789.py:15: DeprecationWarning: find_element_by_* commands are deprecated. Please use find_element() instead\n",
      "  percentage = driver.find_element_by_name(\"percentagebox\")\n",
      "/tmp/ipykernel_9273/3793070789.py:19: DeprecationWarning: find_element_by_* commands are deprecated. Please use find_element() instead\n",
      "  button = driver.find_element_by_name(\"addButton\")\n",
      "/tmp/ipykernel_9273/3793070789.py:22: DeprecationWarning: find_element_by_* commands are deprecated. Please use find_element() instead\n",
      "  confirmButton = driver.find_element_by_name('confirmButton')\n"
     ]
    },
    {
     "name": "stdout",
     "output_type": "stream",
     "text": [
      "Passou!\n"
     ]
    }
   ],
   "source": [
    "# Preencher gastos com sucesso\n",
    "type = driver.find_element_by_name(\"typebox\")\n",
    "type.clear()\n",
    "type.send_keys(\"Alimentação\")\n",
    "percentage = driver.find_element_by_name(\"percentagebox\")\n",
    "percentage.clear()\n",
    "percentage.send_keys(\"80\")\n",
    "\n",
    "button = driver.find_element_by_name(\"addButton\")\n",
    "button.click()\n",
    "\n",
    "type = driver.find_element_by_name(\"typebox\")\n",
    "type.clear()\n",
    "type.send_keys(\"Academia\")\n",
    "percentage = driver.find_element_by_name(\"percentagebox\")\n",
    "percentage.clear()\n",
    "percentage.send_keys(\"20\")\n",
    "\n",
    "button = driver.find_element_by_name(\"addButton\")\n",
    "button.click()\n",
    "\n",
    "confirmButton = driver.find_element_by_name('confirmButton')\n",
    "confirmButton.click()\n",
    "\n",
    "alert = driver.switch_to.alert\n",
    "alert_text = alert.text\n",
    "if(alert_text == 'Gastos fixos confirmados com sucesso!'):\n",
    "    print(\"Passou!\")\n",
    "    alert.accept()\n",
    "else:\n",
    "    print(\"Não passou!\")\n",
    "    alert.accept()\n"
   ]
  },
  {
   "cell_type": "code",
   "execution_count": 4,
   "metadata": {},
   "outputs": [
    {
     "name": "stdout",
     "output_type": "stream",
     "text": [
      "Passou!\n"
     ]
    },
    {
     "name": "stderr",
     "output_type": "stream",
     "text": [
      "/tmp/ipykernel_9273/567941327.py:2: DeprecationWarning: find_element_by_* commands are deprecated. Please use find_element() instead\n",
      "  deleteButton = driver.find_element_by_name(\"deleteButton\")\n"
     ]
    }
   ],
   "source": [
    "#Deletando gastos mensais corretamente\n",
    "deleteButton = driver.find_element_by_name(\"deleteButton\")\n",
    "deleteButton.click()\n",
    "\n",
    "alert = driver.switch_to.alert\n",
    "alert_text = alert.text\n",
    "if(alert_text == 'Gasto fixo deletado com sucesso!'):\n",
    "    print(\"Passou!\")\n",
    "    alert.accept()\n",
    "else:\n",
    "    print(\"Não passou!\")\n",
    "    alert.accept()"
   ]
  },
  {
   "cell_type": "code",
   "execution_count": 6,
   "metadata": {},
   "outputs": [
    {
     "name": "stderr",
     "output_type": "stream",
     "text": [
      "/tmp/ipykernel_9273/675816826.py:2: DeprecationWarning: find_element_by_* commands are deprecated. Please use find_element() instead\n",
      "  type = driver.find_element_by_name(\"typebox\")\n",
      "/tmp/ipykernel_9273/675816826.py:5: DeprecationWarning: find_element_by_* commands are deprecated. Please use find_element() instead\n",
      "  percentage = driver.find_element_by_name(\"percentagebox\")\n",
      "/tmp/ipykernel_9273/675816826.py:9: DeprecationWarning: find_element_by_* commands are deprecated. Please use find_element() instead\n",
      "  button = driver.find_element_by_name(\"addButton\")\n",
      "/tmp/ipykernel_9273/675816826.py:12: DeprecationWarning: find_element_by_* commands are deprecated. Please use find_element() instead\n",
      "  type = driver.find_element_by_name(\"typebox\")\n",
      "/tmp/ipykernel_9273/675816826.py:15: DeprecationWarning: find_element_by_* commands are deprecated. Please use find_element() instead\n",
      "  percentage = driver.find_element_by_name(\"percentagebox\")\n",
      "/tmp/ipykernel_9273/675816826.py:19: DeprecationWarning: find_element_by_* commands are deprecated. Please use find_element() instead\n",
      "  button = driver.find_element_by_name(\"addButton\")\n",
      "/tmp/ipykernel_9273/675816826.py:23: DeprecationWarning: find_element_by_* commands are deprecated. Please use find_element() instead\n",
      "  closeButton = driver.find_element_by_name('closeButton')\n"
     ]
    },
    {
     "name": "stdout",
     "output_type": "stream",
     "text": [
      "Passou!\n"
     ]
    }
   ],
   "source": [
    "#Adicionando gastos mensais preechendo com % a mais que o possível (100%)\n",
    "type = driver.find_element_by_name(\"typebox\")\n",
    "type.clear()\n",
    "type.send_keys(\"Alimentação\")\n",
    "percentage = driver.find_element_by_name(\"percentagebox\")\n",
    "percentage.clear()\n",
    "percentage.send_keys(\"80\")\n",
    "\n",
    "button = driver.find_element_by_name(\"addButton\")\n",
    "button.click()\n",
    "\n",
    "type = driver.find_element_by_name(\"typebox\")\n",
    "type.clear()\n",
    "type.send_keys(\"Academia\")\n",
    "percentage = driver.find_element_by_name(\"percentagebox\")\n",
    "percentage.clear()\n",
    "percentage.send_keys(\"30\")\n",
    "\n",
    "button = driver.find_element_by_name(\"addButton\")\n",
    "button.click()\n",
    "\n",
    "try:\n",
    "    closeButton = driver.find_element_by_name('closeButton')\n",
    "    closeButton.click()\n",
    "    print(\"Passou!\")\n",
    "except:\n",
    "    print(\"Não passou!\")"
   ]
  },
  {
   "cell_type": "code",
   "execution_count": 53,
   "metadata": {},
   "outputs": [],
   "source": [
    "#assert \"No results found.\" not in driver.page_source\n",
    "#driver.close()"
   ]
  },
  {
   "cell_type": "code",
   "execution_count": null,
   "metadata": {},
   "outputs": [],
   "source": []
  }
 ],
 "metadata": {
  "interpreter": {
   "hash": "916dbcbb3f70747c44a77c7bcd40155683ae19c65e1c03b4aa3499c5328201f1"
  },
  "kernelspec": {
   "display_name": "Python 3.9.2 64-bit",
   "language": "python",
   "name": "python3"
  },
  "language_info": {
   "codemirror_mode": {
    "name": "ipython",
    "version": 3
   },
   "file_extension": ".py",
   "mimetype": "text/x-python",
   "name": "python",
   "nbconvert_exporter": "python",
   "pygments_lexer": "ipython3",
   "version": "3.9.2"
  },
  "orig_nbformat": 4
 },
 "nbformat": 4,
 "nbformat_minor": 2
}
