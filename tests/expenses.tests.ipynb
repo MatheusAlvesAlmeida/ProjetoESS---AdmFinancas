{
 "cells": [
  {
   "cell_type": "code",
   "execution_count": 50,
   "metadata": {},
   "outputs": [
    {
     "name": "stderr",
     "output_type": "stream",
     "text": [
      "\n",
      "\n",
      "====== WebDriver manager ======\n",
      "Current firefox version is 91.4\n",
      "Get LATEST geckodriver version for 91.4 firefox\n",
      "Driver [/home/matheus/.wdm/drivers/geckodriver/linux64/v0.30.0/geckodriver] found in cache\n",
      "/tmp/ipykernel_27024/4112985822.py:5: DeprecationWarning: executable_path has been deprecated, please pass in a Service object\n",
      "  driver = webdriver.Firefox(executable_path=GeckoDriverManager().install())\n"
     ]
    }
   ],
   "source": [
    "from selenium import webdriver\n",
    "from selenium.webdriver.common.keys import Keys\n",
    "from webdriver_manager.firefox import GeckoDriverManager\n",
    "\n",
    "driver = webdriver.Firefox(executable_path=GeckoDriverManager().install())\n",
    "driver.get(\"http://localhost:4200/expenses\")\n",
    "assert \"Gastos fixos\" in driver.title"
   ]
  },
  {
   "cell_type": "code",
   "execution_count": 51,
   "metadata": {},
   "outputs": [
    {
     "name": "stderr",
     "output_type": "stream",
     "text": [
      "/tmp/ipykernel_27024/3999503274.py:2: DeprecationWarning: find_element_by_* commands are deprecated. Please use find_element() instead\n",
      "  type = driver.find_element_by_name(\"typebox\")\n",
      "/tmp/ipykernel_27024/3999503274.py:5: DeprecationWarning: find_element_by_* commands are deprecated. Please use find_element() instead\n",
      "  percentage = driver.find_element_by_name(\"percentagebox\")\n",
      "/tmp/ipykernel_27024/3999503274.py:9: DeprecationWarning: find_element_by_* commands are deprecated. Please use find_element() instead\n",
      "  button = driver.find_element_by_name(\"addButton\")\n",
      "/tmp/ipykernel_27024/3999503274.py:12: DeprecationWarning: find_element_by_* commands are deprecated. Please use find_element() instead\n",
      "  type = driver.find_element_by_name(\"typebox\")\n",
      "/tmp/ipykernel_27024/3999503274.py:15: DeprecationWarning: find_element_by_* commands are deprecated. Please use find_element() instead\n",
      "  percentage = driver.find_element_by_name(\"percentagebox\")\n",
      "/tmp/ipykernel_27024/3999503274.py:19: DeprecationWarning: find_element_by_* commands are deprecated. Please use find_element() instead\n",
      "  button = driver.find_element_by_name(\"addButton\")\n"
     ]
    }
   ],
   "source": [
    "# Adicionar gastos com sucesso\n",
    "type = driver.find_element_by_name(\"typebox\")\n",
    "type.clear()\n",
    "type.send_keys(\"Alimentação\")\n",
    "percentage = driver.find_element_by_name(\"percentagebox\")\n",
    "percentage.clear()\n",
    "percentage.send_keys(\"80\")\n",
    "\n",
    "button = driver.find_element_by_name(\"addButton\")\n",
    "button.click()\n",
    "\n",
    "type = driver.find_element_by_name(\"typebox\")\n",
    "type.clear()\n",
    "type.send_keys(\"Academia\")\n",
    "percentage = driver.find_element_by_name(\"percentagebox\")\n",
    "percentage.clear()\n",
    "percentage.send_keys(\"20\")\n",
    "\n",
    "button = driver.find_element_by_name(\"addButton\")\n",
    "button.click()\n",
    "\n"
   ]
  },
  {
   "cell_type": "code",
   "execution_count": 52,
   "metadata": {},
   "outputs": [
    {
     "name": "stderr",
     "output_type": "stream",
     "text": [
      "/tmp/ipykernel_27024/3174864884.py:1: DeprecationWarning: find_element_by_* commands are deprecated. Please use find_element() instead\n",
      "  confirmButton = driver.find_element_by_name('confirmButton')\n"
     ]
    },
    {
     "name": "stdout",
     "output_type": "stream",
     "text": [
      "Passou!\n"
     ]
    }
   ],
   "source": [
    "confirmButton = driver.find_element_by_name('confirmButton')\n",
    "confirmButton.click()\n",
    "\n",
    "alert = driver.switch_to.alert\n",
    "alert_text = alert.text\n",
    "if(alert_text == 'Gastos fixos confirmados com sucesso!'):\n",
    "    print(\"Passou!\")\n",
    "    alert.accept()\n",
    "else:\n",
    "    print(\"Não passou!\")\n",
    "    alert.accept()"
   ]
  },
  {
   "cell_type": "code",
   "execution_count": null,
   "metadata": {},
   "outputs": [],
   "source": []
  },
  {
   "cell_type": "code",
   "execution_count": null,
   "metadata": {},
   "outputs": [],
   "source": []
  },
  {
   "cell_type": "code",
   "execution_count": 53,
   "metadata": {},
   "outputs": [],
   "source": [
    "#assert \"No results found.\" not in driver.page_source\n",
    "#driver.close()"
   ]
  },
  {
   "cell_type": "code",
   "execution_count": null,
   "metadata": {},
   "outputs": [],
   "source": []
  }
 ],
 "metadata": {
  "interpreter": {
   "hash": "916dbcbb3f70747c44a77c7bcd40155683ae19c65e1c03b4aa3499c5328201f1"
  },
  "kernelspec": {
   "display_name": "Python 3.9.2 64-bit",
   "language": "python",
   "name": "python3"
  },
  "language_info": {
   "codemirror_mode": {
    "name": "ipython",
    "version": 3
   },
   "file_extension": ".py",
   "mimetype": "text/x-python",
   "name": "python",
   "nbconvert_exporter": "python",
   "pygments_lexer": "ipython3",
   "version": "3.9.2"
  },
  "orig_nbformat": 4
 },
 "nbformat": 4,
 "nbformat_minor": 2
}
